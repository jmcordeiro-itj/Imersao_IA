{
  "nbformat": 4,
  "nbformat_minor": 0,
  "metadata": {
    "colab": {
      "provenance": [],
      "authorship_tag": "ABX9TyPT8Mmga1NGcslivKloMBPt",
      "include_colab_link": true
    },
    "kernelspec": {
      "name": "python3",
      "display_name": "Python 3"
    },
    "language_info": {
      "name": "python"
    }
  },
  "cells": [
    {
      "cell_type": "markdown",
      "metadata": {
        "id": "view-in-github",
        "colab_type": "text"
      },
      "source": [
        "<a href=\"https://colab.research.google.com/github/jmcordeiro-itj/Imersao_IA/blob/main/Untitled2.ipynb\" target=\"_parent\"><img src=\"https://colab.research.google.com/assets/colab-badge.svg\" alt=\"Open In Colab\"/></a>"
      ]
    },
    {
      "cell_type": "code",
      "execution_count": 13,
      "metadata": {
        "id": "vDqim88SUEET"
      },
      "outputs": [],
      "source": [
        "!pip install -q -U google-generativeai\n",
        "\n",
        "import pathlib\n",
        "import textwrap\n",
        "\n",
        "import google.generativeai as genai\n",
        "\n",
        "from IPython.display import display\n",
        "from IPython.display import Markdown\n",
        "\n",
        "def to_markdown(text):\n",
        "  text = text.replace('•', '  *')\n",
        "  return Markdown(textwrap.indent(text, '> ', predicate=lambda _: True))\n",
        "\n",
        "# Used to securely store your API key\n",
        "from google.colab import userdata\n",
        "\n",
        "# Or use `os.getenv('GOOGLE_API_KEY')` to fetch an environment variable.\n",
        "GOOGLE_API_KEY=userdata.get('API_KEY')\n",
        "\n",
        "genai.configure(api_key=GOOGLE_API_KEY)\n",
        "\n",
        "model = genai.GenerativeModel('gemini-pro')\n",
        "\n",
        "areas_especializacao = [\n",
        "    {\"area\": \"Matemática\", \"descricao\": \"Avaliação de habilidades matemáticas, incluindo cálculo, álgebra, geometria e estatística.\"},\n",
        "    {\"area\": \"Língua Portuguesa\", \"descricao\": \"Avaliação de competências linguísticas, compreensão de texto, gramática, interpretação de texto e redação.\"},\n",
        "    {\"area\": \"Ciências da Natureza\", \"descricao\": \"Avaliação de conhecimentos em biologia, química e física.\"},\n",
        "    {\"area\": \"Ciências Humanas\", \"descricao\": \"Avaliação de conhecimentos em história, geografia, sociologia e filosofia.\"}\n",
        "]\n",
        "\n",
        "assunto = \"\"\n",
        "\n",
        "for area in areas_especializacao:\n",
        "    assunto += area[\"area\"] + \": \" + area[\"descricao\"]\n",
        "\n",
        "response = model.generate_content(assunto)\n",
        "\n",
        "chat = model.start_chat(history=[])\n",
        "\n"
      ]
    },
    {
      "cell_type": "code",
      "source": [
        "def rotina(input_text):\n",
        "    # Aqui você pode inserir a rotina que deseja chamar com base no input recebido\n",
        "    # print(\"Rotina chamada com input:\", input_text)\n",
        "    response = chat.send_message(input_text , stream=True)\n",
        "    response.resolve()\n",
        "    prompot_retorno = response.text\n",
        "    print(f\"Prompot: {prompot_retorno}\")\n"
      ],
      "metadata": {
        "id": "aX_U6hFIal6-"
      },
      "execution_count": 15,
      "outputs": []
    },
    {
      "cell_type": "code",
      "source": [
        "def main():\n",
        "    print(f\" Inicio da conversa com o monitor, em posso lhe ajduar? Para terminar nossa conversa digite Fim para 'finalizar'\")\n",
        "    while True:\n",
        "        # Recebe o input do usuário\n",
        "        user_input = input(\"Prompt:\")\n",
        "\n",
        "        # Verifica se o input é \"Fim\", se sim, termina o loop\n",
        "        if user_input == \"Fim\":\n",
        "            print(\"Programa encerrado.\")\n",
        "            break\n",
        "\n",
        "        # Chama a rotina com base no input recebido\n",
        "        rotina(user_input)\n",
        "\n"
      ],
      "metadata": {
        "id": "1RzRrcOMavOd"
      },
      "execution_count": 16,
      "outputs": []
    },
    {
      "cell_type": "code",
      "source": [
        "main()"
      ],
      "metadata": {
        "colab": {
          "base_uri": "https://localhost:8080/",
          "height": 1000
        },
        "id": "0M4tvpk8azWt",
        "outputId": "c57c53d2-3c22-4ef5-97ab-780ed2b640d9"
      },
      "execution_count": 17,
      "outputs": [
        {
          "output_type": "stream",
          "name": "stdout",
          "text": [
            " Inicio da conversa com o monitor, por favor digite Fim para 'finalizar'\n",
            "Prompt:como resolvo equação de segundo grau\n",
            "Prompot: **Para resolver uma equação de segundo grau da forma ax² + bx + c = 0, existem três métodos comuns:**\n",
            "\n",
            "**1. Fatoração:**\n",
            "\n",
            "* Fatore a equação de forma que (ax + p)(bx + q) = 0\n",
            "* Defina cada fator igual a zero e resolva para x\n",
            "* As soluções serão x = -p/a e x = -q/b\n",
            "\n",
            "**2. Fórmula Quadrática:**\n",
            "\n",
            "* Use a fórmula quadrática: x = (-b ± √(b² - 4ac)) / 2a\n",
            "* Onde a, b e c são os coeficientes da equação\n",
            "\n",
            "**3. Completando o Quadrado:**\n",
            "\n",
            "* Adicione e subtraia (b/2a)² ao lado esquerdo da equação (isso cria a forma de um quadrado perfeito)\n",
            "* Fatore o quadrado perfeito\n",
            "* Resolva o quadrado perfeito para x\n",
            "\n",
            "**Exemplo:**\n",
            "\n",
            "Resolva a equação x² - 5x + 6 = 0\n",
            "\n",
            "**Usando fatoração:**\n",
            "\n",
            "* Fatores: (x - 2)(x - 3) = 0\n",
            "* x - 2 = 0 ou x - 3 = 0\n",
            "* x = 2 ou x = 3\n",
            "\n",
            "**Usando a fórmula quadrática:**\n",
            "\n",
            "* a = 1, b = -5, c = 6\n",
            "* x = (-(-5) ± √((-5)² - 4(1)(6))) / 2(1)\n",
            "* x = (5 ± √25) / 2\n",
            "* x = (5 ± 5) / 2\n",
            "* x = 2 ou x = 3\n",
            "\n",
            "**Usando completando o quadrado:**\n",
            "\n",
            "* Adicione e subtraia (5/2)² = 6,25 ao lado esquerdo\n",
            "* x² - 5x + 6,25 - 6,25 + 6 = 0\n",
            "* (x - 5/2)² - 0,25 = 0\n",
            "* (x - 5/2)² = 0,25\n",
            "* x - 5/2 = ±√0,25\n",
            "* x = 5/2 ± 0,5\n",
            "* x = 2 ou x = 3\n",
            "Prompt:você pode avaliar se sei as operações basicas e quanto eu sei?\n",
            "Prompot: **Para avaliar se você sabe as operações básicas (adição, subtração, multiplicação e divisão) e quanto você sabe, você pode fazer o seguinte:**\n",
            "\n",
            "**Autoavaliação:**\n",
            "\n",
            "* Reflita sobre sua confiança em cada operação. Você se sente confortável e preciso ao realizá-las?\n",
            "* Pense em situações da vida real em que você usa as operações básicas. Você pode resolvê-las com facilidade?\n",
            "\n",
            "**Teste de prática:**\n",
            "\n",
            "* Faça um teste de prática com problemas que abranjam todas as quatro operações básicas.\n",
            "* Verifique suas respostas para identificar áreas onde você precisa melhorar.\n",
            "\n",
            "**Exemplos de problemas:**\n",
            "\n",
            "* 125 + 378\n",
            "* 943 - 256\n",
            "* 14 × 23\n",
            "* 36 ÷ 9\n",
            "\n",
            "**Avaliação:**\n",
            "\n",
            "* **Excelente:** Você pode resolver todos os problemas com precisão e rapidez. Você tem um domínio sólido das operações básicas.\n",
            "* **Bom:** Você pode resolver a maioria dos problemas com precisão, mas pode precisar de mais prática com operações específicas.\n",
            "* **Mediano:** Você pode resolver alguns problemas, mas luta com outros. Você precisa de prática adicional para melhorar sua compreensão.\n",
            "* **Fraco:** Você tem dificuldade em resolver a maioria dos problemas. Você precisa revisar os conceitos básicos e praticar regularmente.\n",
            "\n",
            "Se você descobrir que precisa melhorar, concentre-se nas seguintes estratégias:\n",
            "\n",
            "* Pratique regularmente os problemas de operações básicas.\n",
            "* Use flashcards ou aplicativos para memorizar fatos matemáticos.\n",
            "* Procure ajuda de um professor ou tutor se precisar de apoio adicional.\n",
            "* Jogue jogos que envolvam operações básicas, como Sudoku ou jogos de cartas.\n",
            "Prompt:pode criar um exercicio para mim e depois com resultado me dar uma avaliação\n",
            "Prompot: **Exercício:**\n",
            "\n",
            "**Resolução de Operações Básicas**\n",
            "\n",
            "Resolva os seguintes problemas com precisão e rapidez:\n",
            "\n",
            "1. 145 + 279\n",
            "2. 784 - 367\n",
            "3. 23 × 15\n",
            "4. 48 ÷ 6\n",
            "\n",
            "**Avaliação:**\n",
            "\n",
            "**Respostas:**\n",
            "\n",
            "1. 424\n",
            "2. 417\n",
            "3. 345\n",
            "4. 8\n",
            "\n",
            "**Avaliação:**\n",
            "\n",
            "* Se você resolveu todos os problemas corretamente em menos de 2 minutos, você tem um **excelente** domínio das operações básicas.\n",
            "* Se você resolveu todos os problemas corretamente em 2-3 minutos, você tem um **bom** domínio das operações básicas.\n",
            "* Se você resolveu a maioria dos problemas corretamente, mas demorou mais de 3 minutos, você tem um **médio** domínio das operações básicas e precisa de prática adicional.\n",
            "* Se você teve dificuldade em resolver a maioria dos problemas, você tem um **fraco** domínio das operações básicas e precisa revisar os conceitos básicos e praticar regularmente.\n",
            "Prompt:fim\n",
            "Prompot: Obrigado por usar meus serviços. Estou sempre aqui para ajudá-lo com suas dúvidas matemáticas no futuro.\n",
            "Prompt:Fim\n",
            "Programa encerrado.\n"
          ]
        }
      ]
    }
  ]
}